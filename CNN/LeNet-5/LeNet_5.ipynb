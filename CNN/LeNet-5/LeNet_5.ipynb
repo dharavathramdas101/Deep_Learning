{
  "nbformat": 4,
  "nbformat_minor": 0,
  "metadata": {
    "colab": {
      "provenance": []
    },
    "kernelspec": {
      "name": "python3",
      "display_name": "Python 3"
    },
    "language_info": {
      "name": "python"
    }
  },
  "cells": [
    {
      "cell_type": "markdown",
      "source": [
        "# CNN Architecture"
      ],
      "metadata": {
        "id": "1RwFFd_xVTEg"
      }
    },
    {
      "cell_type": "markdown",
      "source": [
        "# LeNet-5\n",
        "it's a classification Architecture \n",
        "\n",
        "Lenet-5 is one of the earliest pre-trained models proposed by Yann LeCun and others in the year 1998, in the research paper Gradient-Based Learning Applied to Document Recognition. They used this architecture for recognizing the handwritten and machine-printed characters.\n",
        "\n",
        "The main reason behind the popularity of this model was its simple and straightforward architecture. It is a multi-layer convolution neural network for image classification.\n",
        "\n",
        "pincode --> pinecode recognization, character / number\n",
        "\n",
        "input size : 32*32"
      ],
      "metadata": {
        "id": "KvMkOK-bUomy"
      }
    },
    {
      "cell_type": "markdown",
      "source": [
        "# Architecture of the Model\n",
        " Let’s understand the architecture of Lenet-5. The network has 5 layers with learnable parameters and hence named Lenet-5. It has three sets of convolution layers with a combination of average pooling. After the convolution and average pooling layers, we have two fully connected layers. At last, a Softmax classifier which classifies the images into respective class."
      ],
      "metadata": {
        "id": "L2N6QuPWVkuh"
      }
    },
    {
      "cell_type": "markdown",
      "source": [],
      "metadata": {
        "id": "r5lBvL6ZVkk7"
      }
    },
    {
      "cell_type": "code",
      "source": [
        "#@title  \n",
        "from IPython.display import Image\n",
        "Image(url='https://cdn.analyticsvidhya.com/wp-content/uploads/2021/03/Screenshot-from-2021-03-18-12-52-17.png', width=800)"
      ],
      "metadata": {
        "colab": {
          "base_uri": "https://localhost:8080/",
          "height": 358
        },
        "cellView": "form",
        "id": "1K56LqROWWUz",
        "outputId": "e7f8a193-f2ac-4448-81bc-5c215327f2f4"
      },
      "execution_count": 22,
      "outputs": [
        {
          "output_type": "execute_result",
          "data": {
            "text/html": [
              "<img src=\"https://cdn.analyticsvidhya.com/wp-content/uploads/2021/03/Screenshot-from-2021-03-18-12-52-17.png\" width=\"800\"/>"
            ],
            "text/plain": [
              "<IPython.core.display.Image object>"
            ]
          },
          "metadata": {},
          "execution_count": 22
        }
      ]
    },
    {
      "cell_type": "markdown",
      "source": [
        "# Architecture Details\n",
        "Let’s understand the architecture in more detail."
      ],
      "metadata": {
        "id": "Kv-QuAvJXIeG"
      }
    },
    {
      "cell_type": "code",
      "source": [
        "#@title \n",
        "Image(url='https://cdn.analyticsvidhya.com/wp-content/uploads/2021/03/Screenshot-from-2021-03-18-12-56-51.png', width=800)"
      ],
      "metadata": {
        "colab": {
          "base_uri": "https://localhost:8080/",
          "height": 411
        },
        "cellView": "form",
        "id": "Sp6OyHYdUmuu",
        "outputId": "25e72bd9-fcf5-411d-abe5-5a545cef715f"
      },
      "execution_count": 23,
      "outputs": [
        {
          "output_type": "execute_result",
          "data": {
            "text/html": [
              "<img src=\"https://cdn.analyticsvidhya.com/wp-content/uploads/2021/03/Screenshot-from-2021-03-18-12-56-51.png\" width=\"800\"/>"
            ],
            "text/plain": [
              "<IPython.core.display.Image object>"
            ]
          },
          "metadata": {},
          "execution_count": 23
        }
      ]
    },
    {
      "cell_type": "code",
      "source": [],
      "metadata": {
        "id": "5ANvYl6iaKwx"
      },
      "execution_count": null,
      "outputs": []
    },
    {
      "cell_type": "markdown",
      "source": [
        "# LeNet - 5 Practical implementation"
      ],
      "metadata": {
        "id": "f08aWy_LaMh0"
      }
    },
    {
      "cell_type": "code",
      "execution_count": 1,
      "metadata": {
        "id": "MZGPvjgqRI7E"
      },
      "outputs": [],
      "source": [
        "import tensorflow as tf\n",
        "from tensorflow import keras\n",
        "from keras.datasets import mnist\n",
        "from keras.layers import Dense, Flatten, Conv2D, AveragePooling2D\n",
        "from keras.models import Sequential\n",
        "     "
      ]
    },
    {
      "cell_type": "code",
      "source": [
        "(x_train, y_train), (x_test, y_test) = mnist.load_data()\n",
        "     "
      ],
      "metadata": {
        "colab": {
          "base_uri": "https://localhost:8080/",
          "height": 0
        },
        "id": "GRtJF58CStkQ",
        "outputId": "ed16b64e-ab22-43e8-e928-b12ec3febc8c"
      },
      "execution_count": 2,
      "outputs": [
        {
          "output_type": "stream",
          "name": "stdout",
          "text": [
            "Downloading data from https://storage.googleapis.com/tensorflow/tf-keras-datasets/mnist.npz\n",
            "11490434/11490434 [==============================] - 0s 0us/step\n"
          ]
        }
      ]
    },
    {
      "cell_type": "code",
      "source": [
        "x_train.shape"
      ],
      "metadata": {
        "colab": {
          "base_uri": "https://localhost:8080/",
          "height": 0
        },
        "id": "bmxwzrNQS7ZG",
        "outputId": "283f5849-50e3-47b3-e1a6-d3d4d1a59f24"
      },
      "execution_count": 5,
      "outputs": [
        {
          "output_type": "execute_result",
          "data": {
            "text/plain": [
              "(60000, 28, 28, 1)"
            ]
          },
          "metadata": {},
          "execution_count": 5
        }
      ]
    },
    {
      "cell_type": "code",
      "source": [
        "x_train.shape[0]"
      ],
      "metadata": {
        "colab": {
          "base_uri": "https://localhost:8080/",
          "height": 0
        },
        "id": "C7ZeXLxTStnc",
        "outputId": "d59eec18-03c1-4839-e03c-6b6dd7299e32"
      },
      "execution_count": 3,
      "outputs": [
        {
          "output_type": "execute_result",
          "data": {
            "text/plain": [
              "60000"
            ]
          },
          "metadata": {},
          "execution_count": 3
        }
      ]
    },
    {
      "cell_type": "code",
      "source": [
        "#performing reshaping\n",
        "\n",
        "x_train = x_train.reshape(x_train.shape[0], 28,28, 1)\n",
        "x_test = x_test.reshape(x_test.shape[0],28,28, 1)"
      ],
      "metadata": {
        "id": "RzHTBAe-StrZ"
      },
      "execution_count": 4,
      "outputs": []
    },
    {
      "cell_type": "code",
      "source": [
        "x_train.shape"
      ],
      "metadata": {
        "colab": {
          "base_uri": "https://localhost:8080/",
          "height": 0
        },
        "id": "C3kwumIvTNqa",
        "outputId": "41e8d069-a77d-4362-ce3a-fcf97735ba29"
      },
      "execution_count": 6,
      "outputs": [
        {
          "output_type": "execute_result",
          "data": {
            "text/plain": [
              "(60000, 28, 28, 1)"
            ]
          },
          "metadata": {},
          "execution_count": 6
        }
      ]
    },
    {
      "cell_type": "code",
      "source": [
        "# Normalization\n",
        "\n",
        "x_train = x_train / 255\n",
        "x_test = x_test / 255 #min max 0-1\n",
        "     "
      ],
      "metadata": {
        "id": "UtSk3V7TSttp"
      },
      "execution_count": 7,
      "outputs": []
    },
    {
      "cell_type": "code",
      "source": [
        "y_train[0]"
      ],
      "metadata": {
        "colab": {
          "base_uri": "https://localhost:8080/",
          "height": 0
        },
        "id": "kcQVLkTXTUbI",
        "outputId": "99ad7236-35a0-493c-b2d6-9aca487b92a8"
      },
      "execution_count": 8,
      "outputs": [
        {
          "output_type": "execute_result",
          "data": {
            "text/plain": [
              "5"
            ]
          },
          "metadata": {},
          "execution_count": 8
        }
      ]
    },
    {
      "cell_type": "code",
      "source": [
        "#One hot Encoding\n",
        "y_train = keras.utils.to_categorical(y_train, 10)\n",
        "y_test = keras.utils.to_categorical(y_test, 10)\n",
        "     "
      ],
      "metadata": {
        "id": "PAZsX-y9TUod"
      },
      "execution_count": 9,
      "outputs": []
    },
    {
      "cell_type": "code",
      "source": [
        "y_train[0]"
      ],
      "metadata": {
        "colab": {
          "base_uri": "https://localhost:8080/",
          "height": 0
        },
        "id": "-Tm3VMeaTrz4",
        "outputId": "c7da4612-ef9f-4854-94ab-f36bfad419d6"
      },
      "execution_count": 10,
      "outputs": [
        {
          "output_type": "execute_result",
          "data": {
            "text/plain": [
              "array([0., 0., 0., 0., 0., 1., 0., 0., 0., 0.], dtype=float32)"
            ]
          },
          "metadata": {},
          "execution_count": 10
        }
      ]
    },
    {
      "cell_type": "code",
      "source": [
        "#@title Model Architecture"
      ],
      "metadata": {
        "id": "n7fGpRVuT2u0"
      },
      "execution_count": 11,
      "outputs": []
    },
    {
      "cell_type": "code",
      "source": [
        "model = Sequential()\n",
        "\n",
        "model.add(Conv2D(6, kernel_size = (5,5), padding = 'valid', activation='tanh', input_shape = (28,28,1)))\n",
        "model.add(AveragePooling2D(pool_size= (2,2), strides = 2, padding = 'valid'))\n",
        "\n",
        "model.add(Conv2D(16, kernel_size = (5,5), padding = 'valid', activation='tanh'))\n",
        "model.add(AveragePooling2D(pool_size= (2,2), strides = 2, padding = 'valid'))\n",
        "\n",
        "model.add(Flatten())\n",
        "\n",
        "model.add(Dense(120, activation='tanh'))\n",
        "model.add(Dense(84, activation='tanh'))\n",
        "model.add(Dense(10, activation='softmax'))\n",
        "\n",
        "model.summary()"
      ],
      "metadata": {
        "colab": {
          "base_uri": "https://localhost:8080/",
          "height": 0
        },
        "id": "FujX39JEUIHz",
        "outputId": "09ef055c-fcbf-4cb2-f7d8-940e062a64dc"
      },
      "execution_count": 12,
      "outputs": [
        {
          "output_type": "stream",
          "name": "stdout",
          "text": [
            "Model: \"sequential\"\n",
            "_________________________________________________________________\n",
            " Layer (type)                Output Shape              Param #   \n",
            "=================================================================\n",
            " conv2d (Conv2D)             (None, 24, 24, 6)         156       \n",
            "                                                                 \n",
            " average_pooling2d (AverageP  (None, 12, 12, 6)        0         \n",
            " ooling2D)                                                       \n",
            "                                                                 \n",
            " conv2d_1 (Conv2D)           (None, 8, 8, 16)          2416      \n",
            "                                                                 \n",
            " average_pooling2d_1 (Averag  (None, 4, 4, 16)         0         \n",
            " ePooling2D)                                                     \n",
            "                                                                 \n",
            " flatten (Flatten)           (None, 256)               0         \n",
            "                                                                 \n",
            " dense (Dense)               (None, 120)               30840     \n",
            "                                                                 \n",
            " dense_1 (Dense)             (None, 84)                10164     \n",
            "                                                                 \n",
            " dense_2 (Dense)             (None, 10)                850       \n",
            "                                                                 \n",
            "=================================================================\n",
            "Total params: 44,426\n",
            "Trainable params: 44,426\n",
            "Non-trainable params: 0\n",
            "_________________________________________________________________\n"
          ]
        }
      ]
    },
    {
      "cell_type": "code",
      "source": [
        "model.compile(loss = keras.metrics.categorical_crossentropy, optimizer = keras.optimizers.Adam(), metrics = ['accuracy'])\n",
        "     \n"
      ],
      "metadata": {
        "id": "TkIutZxVUIRO"
      },
      "execution_count": 13,
      "outputs": []
    },
    {
      "cell_type": "code",
      "source": [
        "model.fit(x_train, y_train, batch_size = 128, epochs=10 , verbose= 1, validation_data = (x_test, y_test))"
      ],
      "metadata": {
        "colab": {
          "base_uri": "https://localhost:8080/",
          "height": 0
        },
        "id": "Pr5IqNXTUIZF",
        "outputId": "3acf534b-7ee6-4a0a-8e96-3f4da5f28dce"
      },
      "execution_count": 14,
      "outputs": [
        {
          "output_type": "stream",
          "name": "stdout",
          "text": [
            "Epoch 1/10\n",
            "469/469 [==============================] - 24s 46ms/step - loss: 0.3485 - accuracy: 0.8993 - val_loss: 0.1493 - val_accuracy: 0.9571\n",
            "Epoch 2/10\n",
            "469/469 [==============================] - 19s 40ms/step - loss: 0.1242 - accuracy: 0.9623 - val_loss: 0.0866 - val_accuracy: 0.9749\n",
            "Epoch 3/10\n",
            "469/469 [==============================] - 19s 40ms/step - loss: 0.0807 - accuracy: 0.9756 - val_loss: 0.0673 - val_accuracy: 0.9794\n",
            "Epoch 4/10\n",
            "469/469 [==============================] - 22s 46ms/step - loss: 0.0606 - accuracy: 0.9814 - val_loss: 0.0521 - val_accuracy: 0.9824\n",
            "Epoch 5/10\n",
            "469/469 [==============================] - 20s 44ms/step - loss: 0.0486 - accuracy: 0.9849 - val_loss: 0.0533 - val_accuracy: 0.9831\n",
            "Epoch 6/10\n",
            "469/469 [==============================] - 18s 38ms/step - loss: 0.0413 - accuracy: 0.9872 - val_loss: 0.0429 - val_accuracy: 0.9853\n",
            "Epoch 7/10\n",
            "469/469 [==============================] - 19s 40ms/step - loss: 0.0353 - accuracy: 0.9890 - val_loss: 0.0524 - val_accuracy: 0.9827\n",
            "Epoch 8/10\n",
            "469/469 [==============================] - 19s 41ms/step - loss: 0.0303 - accuracy: 0.9905 - val_loss: 0.0445 - val_accuracy: 0.9856\n",
            "Epoch 9/10\n",
            "469/469 [==============================] - 19s 41ms/step - loss: 0.0255 - accuracy: 0.9919 - val_loss: 0.0404 - val_accuracy: 0.9869\n",
            "Epoch 10/10\n",
            "469/469 [==============================] - 22s 46ms/step - loss: 0.0220 - accuracy: 0.9933 - val_loss: 0.0381 - val_accuracy: 0.9873\n"
          ]
        },
        {
          "output_type": "execute_result",
          "data": {
            "text/plain": [
              "<keras.callbacks.History at 0x7ff35d7b8d00>"
            ]
          },
          "metadata": {},
          "execution_count": 14
        }
      ]
    },
    {
      "cell_type": "code",
      "source": [
        "score = model.evaluate(x_test, y_test)\n",
        "\n",
        "print('Test loss:', score[0])\n",
        "print('Test accuracy:', score[1])\n",
        "     "
      ],
      "metadata": {
        "colab": {
          "base_uri": "https://localhost:8080/",
          "height": 0
        },
        "id": "-FnRcfJ0UZdd",
        "outputId": "f8ef60cd-0a63-43b0-8ba6-797903b6a822"
      },
      "execution_count": 15,
      "outputs": [
        {
          "output_type": "stream",
          "name": "stdout",
          "text": [
            "313/313 [==============================] - 2s 6ms/step - loss: 0.0381 - accuracy: 0.9873\n",
            "Test loss: 0.038056060671806335\n",
            "Test accuracy: 0.9872999787330627\n"
          ]
        }
      ]
    },
    {
      "cell_type": "code",
      "source": [],
      "metadata": {
        "id": "tuM6LsdXamQF"
      },
      "execution_count": null,
      "outputs": []
    },
    {
      "cell_type": "markdown",
      "source": [
        "## Dharavath Ramdas\n",
        "github link: https://github.com/dharavathramdas101\n",
        "linkedin: https://www.linkedin.com/in/dharavath-ramdas-a283aa213/"
      ],
      "metadata": {
        "id": "M-VwNkBjamhY"
      }
    }
  ]
}